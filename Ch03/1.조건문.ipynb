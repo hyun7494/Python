{
 "cells": [
  {
   "cell_type": "code",
   "execution_count": null,
   "metadata": {},
   "outputs": [],
   "source": [
    "\"\"\"\n",
    "날짜 : 2023/01/03\n",
    "이름 : 김현준\n",
    "내용 : 파이썬 조건문 실습하기\n",
    "\"\"\""
   ]
  },
  {
   "cell_type": "code",
   "execution_count": 2,
   "metadata": {},
   "outputs": [
    {
     "name": "stdout",
     "output_type": "stream",
     "text": [
      "num1은 0보다 크다.\n",
      "numb1은 0보다 크고 num2는 1보다 크다\n"
     ]
    },
    {
     "ename": "NameError",
     "evalue": "name 'sum2' is not defined",
     "output_type": "error",
     "traceback": [
      "\u001b[1;31m---------------------------------------------------------------------------\u001b[0m",
      "\u001b[1;31mNameError\u001b[0m                                 Traceback (most recent call last)",
      "Cell \u001b[1;32mIn[2], line 14\u001b[0m\n\u001b[0;32m     11\u001b[0m     \u001b[39mif\u001b[39;00m num2 \u001b[39m>\u001b[39m \u001b[39m1\u001b[39m:\n\u001b[0;32m     12\u001b[0m         \u001b[39mprint\u001b[39m(\u001b[39m'\u001b[39m\u001b[39mnumb1은 0보다 크고 num2는 1보다 크다\u001b[39m\u001b[39m'\u001b[39m)\n\u001b[1;32m---> 14\u001b[0m \u001b[39mif\u001b[39;00m num1 \u001b[39m>\u001b[39m \u001b[39m0\u001b[39m \u001b[39mand\u001b[39;00m sum2 \u001b[39m>\u001b[39m \u001b[39m1\u001b[39m:\n\u001b[0;32m     15\u001b[0m     \u001b[39mprint\u001b[39m(\u001b[39m'\u001b[39m\u001b[39mnum1은 0보다 크고 그리고 num2는 1\u001b[39m\u001b[39m'\u001b[39m)\n",
      "\u001b[1;31mNameError\u001b[0m: name 'sum2' is not defined"
     ]
    }
   ],
   "source": [
    "# if\n",
    "num1, num2 = 1, 2\n",
    "\n",
    "if num1 > 0:\n",
    "    print('num1은 0보다 크다.')\n",
    "\n",
    "if num1 > num2:\n",
    "    print('num1은 num2보다 크다.')\n",
    "\n",
    "if num1 > 0:\n",
    "    if num2 > 1:\n",
    "        print('numb1은 0보다 크고 num2는 1보다 크다')\n",
    "\n",
    "if num1 > 0 and sum2 > 1:\n",
    "    print('num1은 0보다 크고 그리고 num2는 1')\n",
    "\n"
   ]
  },
  {
   "cell_type": "code",
   "execution_count": 4,
   "metadata": {},
   "outputs": [
    {
     "ename": "SyntaxError",
     "evalue": "expected ':' (2012042351.py, line 3)",
     "output_type": "error",
     "traceback": [
      "\u001b[1;36m  Cell \u001b[1;32mIn[4], line 3\u001b[1;36m\u001b[0m\n\u001b[1;33m    if num3 > num4\u001b[0m\n\u001b[1;37m                  ^\u001b[0m\n\u001b[1;31mSyntaxError\u001b[0m\u001b[1;31m:\u001b[0m expected ':'\n"
     ]
    }
   ],
   "source": [
    "# if ~ else\n",
    "num3, num4 = 3, 4\n",
    "if num3 > num4\n",
    "    print('num3가 num4보다 크다.')\n",
    "    else:\n",
    "        print('num3가 num4보다 작다.')"
   ]
  },
  {
   "cell_type": "code",
   "execution_count": 5,
   "metadata": {},
   "outputs": [
    {
     "name": "stdout",
     "output_type": "stream",
     "text": [
      "num4가 가장 크다\n"
     ]
    }
   ],
   "source": [
    "# if ~ elif ~ else\n",
    "num1, num2, num3, num4 = 1,2,3,4,\n",
    "\n",
    "if num1> num2:\n",
    "    print('num1은 num2보다 크다')\n",
    "elif num2 > num3:\n",
    "    print('num2은 num3보다 크다')\n",
    "elif num3 > num4:\n",
    "    print('num3은 num4보다 크다')\n",
    "else:\n",
    "    print('num4가 가장 크다')\n"
   ]
  },
  {
   "cell_type": "code",
   "execution_count": 7,
   "metadata": {},
   "outputs": [
    {
     "ename": "SyntaxError",
     "evalue": "invalid syntax (1519301373.py, line 6)",
     "output_type": "error",
     "traceback": [
      "\u001b[1;36m  Cell \u001b[1;32mIn[7], line 6\u001b[1;36m\u001b[0m\n\u001b[1;33m    elif score >= 80:\u001b[0m\n\u001b[1;37m    ^\u001b[0m\n\u001b[1;31mSyntaxError\u001b[0m\u001b[1;31m:\u001b[0m invalid syntax\n"
     ]
    }
   ],
   "source": [
    "# 연습문제\n",
    "score = int(input('점수입력 : '))\n",
    "\n",
    "if score >= 90 and score <= 100:\n",
    "    print('A 입니다')\n",
    "elif 80 <= score < 90:\n",
    "    print('B입니다')\n",
    "elif 70 <= score < 80:\n",
    "    print('C입니다')\n",
    "elif score >=60:\n",
    "    print('D입니다')\n",
    "else\n",
    "    print('F입니다')"
   ]
  }
 ],
 "metadata": {
  "kernelspec": {
   "display_name": "Python 3",
   "language": "python",
   "name": "python3"
  },
  "language_info": {
   "codemirror_mode": {
    "name": "ipython",
    "version": 3
   },
   "file_extension": ".py",
   "mimetype": "text/x-python",
   "name": "python",
   "nbconvert_exporter": "python",
   "pygments_lexer": "ipython3",
   "version": "3.11.1 (tags/v3.11.1:a7a450f, Dec  6 2022, 19:58:39) [MSC v.1934 64 bit (AMD64)]"
  },
  "orig_nbformat": 4,
  "vscode": {
   "interpreter": {
    "hash": "ca3167030a8377a7b82d5e665b459d458267ba920e721652be188ae573e682bb"
   }
  }
 },
 "nbformat": 4,
 "nbformat_minor": 2
}
