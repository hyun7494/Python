{
 "cells": [
  {
   "cell_type": "code",
   "execution_count": 1,
   "metadata": {},
   "outputs": [
    {
     "data": {
      "text/plain": [
       "'\\n날짜 : 2023/01/12\\n이름 : 김현준\\n내용 : 파이썬 파일입출력 실습하기\\n'"
      ]
     },
     "execution_count": 1,
     "metadata": {},
     "output_type": "execute_result"
    }
   ],
   "source": [
    "\"\"\"\n",
    "날짜 : 2023/01/12\n",
    "이름 : 김현준\n",
    "내용 : 파이썬 파일입출력 실습하기\n",
    "\"\"\""
   ]
  },
  {
   "cell_type": "code",
   "execution_count": 4,
   "metadata": {},
   "outputs": [
    {
     "name": "stdout",
     "output_type": "stream",
     "text": [
      "Hello World!\n",
      "Hello Python!\n"
     ]
    }
   ],
   "source": [
    "# 파일 읽기 r-> 읽기\n",
    "f1 = open('C:/Users/java1/Desktop/Test.txt', mode='r', encoding='utf-8')\n",
    "\n",
    "while True:\n",
    "    line = f1.read()\n",
    "\n",
    "    if not line:\n",
    "        break\n",
    "    print(line)\n",
    "\n",
    "f1.close()"
   ]
  },
  {
   "cell_type": "code",
   "execution_count": 5,
   "metadata": {},
   "outputs": [],
   "source": [
    "# 파일 쓰기 w-> 쓰기\n",
    "f2 = open('C:/Users/java1/Desktop/Test.txt', mode='w', encoding='utf-8')\n",
    "f2.write('안녕하세요.')\n",
    "f2.write('반갑습니다.')\n",
    "f2.write('감사합니다.')\n",
    "f2.close()\n"
   ]
  },
  {
   "cell_type": "code",
   "execution_count": 9,
   "metadata": {},
   "outputs": [],
   "source": [
    "# 구구단 쓰기\n",
    "f3 = open('C:/Users/java1/Desktop/Test.txt', mode='w', encoding='utf-8')\n",
    "for i in range(2, 10):\n",
    "        for j in range (1, 10) :\n",
    "            k = i * j\n",
    "            f3.write('%d X %d = %d' % (i, j, k))\n",
    "\n",
    "f3.close()"
   ]
  },
  {
   "cell_type": "code",
   "execution_count": 10,
   "metadata": {},
   "outputs": [
    {
     "ename": "SyntaxError",
     "evalue": "invalid syntax (3629494035.py, line 7)",
     "output_type": "error",
     "traceback": [
      "\u001b[1;36m  Cell \u001b[1;32mIn[10], line 7\u001b[1;36m\u001b[0m\n\u001b[1;33m    if not\u001b[0m\n\u001b[1;37m          ^\u001b[0m\n\u001b[1;31mSyntaxError\u001b[0m\u001b[1;31m:\u001b[0m invalid syntax\n"
     ]
    }
   ],
   "source": [
    "# 구구단 읽기\n",
    "f4 = open('C:/Users/java1/Desktop/Test.txt', mode='r', encoding='utf-8')\n",
    "\n",
    "while True:\n",
    "    line = f4.read()\n",
    "    \n",
    "    if not line:\n",
    "        break\n",
    "\n",
    "    print(line)\n",
    "\n",
    "f4.close()"
   ]
  }
 ],
 "metadata": {
  "kernelspec": {
   "display_name": "Python 3",
   "language": "python",
   "name": "python3"
  },
  "language_info": {
   "codemirror_mode": {
    "name": "ipython",
    "version": 3
   },
   "file_extension": ".py",
   "mimetype": "text/x-python",
   "name": "python",
   "nbconvert_exporter": "python",
   "pygments_lexer": "ipython3",
   "version": "3.11.1 (tags/v3.11.1:a7a450f, Dec  6 2022, 19:58:39) [MSC v.1934 64 bit (AMD64)]"
  },
  "orig_nbformat": 4,
  "vscode": {
   "interpreter": {
    "hash": "ca3167030a8377a7b82d5e665b459d458267ba920e721652be188ae573e682bb"
   }
  }
 },
 "nbformat": 4,
 "nbformat_minor": 2
}
