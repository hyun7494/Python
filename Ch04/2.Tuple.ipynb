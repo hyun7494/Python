{
 "cells": [
  {
   "cell_type": "code",
   "execution_count": 1,
   "metadata": {},
   "outputs": [
    {
     "data": {
      "text/plain": [
       "'\\n날짜 : 2023/01/09\\n이름 : 김현준\\n내용 : 파이썬 튜플 실습하기\\n'"
      ]
     },
     "execution_count": 1,
     "metadata": {},
     "output_type": "execute_result"
    }
   ],
   "source": [
    "\"\"\"\n",
    "날짜 : 2023/01/09\n",
    "이름 : 김현준\n",
    "내용 : 파이썬 튜플 실습하기\n",
    "\"\"\""
   ]
  },
  {
   "cell_type": "code",
   "execution_count": 2,
   "metadata": {},
   "outputs": [
    {
     "name": "stdout",
     "output_type": "stream",
     "text": [
      "dataset type :  <class 'tuple'>\n",
      "dataset[0] : 1\n",
      "dataset[2] : 3\n",
      "dataset[4] : 5\n"
     ]
    }
   ],
   "source": [
    "# Tuple(고정 list)\n",
    "dataset = (1,2,3,4,5)\n",
    "\n",
    "print('dataset type : ', type(dataset))\n",
    "print('dataset[0] :', dataset[0])\n",
    "print('dataset[2] :', dataset[2])\n",
    "print('dataset[4] :', dataset[4])"
   ]
  },
  {
   "cell_type": "code",
   "execution_count": null,
   "metadata": {},
   "outputs": [],
   "source": [
    "# Tuple 수정, 추가, 삭제 => 괄호가 생략되어 있는 것임\n",
    "dataset = 1, 2, 3, 4, 5\n",
    "\n",
    "print('dataset type : ', type(dataset))\n",
    "\n",
    "dataset[0] = 6 # 튜플은 고정 리시트이기 때문에 수정, 추가, 삭제 안됨"
   ]
  }
 ],
 "metadata": {
  "kernelspec": {
   "display_name": "Python 3",
   "language": "python",
   "name": "python3"
  },
  "language_info": {
   "codemirror_mode": {
    "name": "ipython",
    "version": 3
   },
   "file_extension": ".py",
   "mimetype": "text/x-python",
   "name": "python",
   "nbconvert_exporter": "python",
   "pygments_lexer": "ipython3",
   "version": "3.11.1 (tags/v3.11.1:a7a450f, Dec  6 2022, 19:58:39) [MSC v.1934 64 bit (AMD64)]"
  },
  "orig_nbformat": 4,
  "vscode": {
   "interpreter": {
    "hash": "ca3167030a8377a7b82d5e665b459d458267ba920e721652be188ae573e682bb"
   }
  }
 },
 "nbformat": 4,
 "nbformat_minor": 2
}
