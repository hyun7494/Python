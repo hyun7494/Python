{
 "cells": [
  {
   "cell_type": "code",
   "execution_count": null,
   "metadata": {},
   "outputs": [],
   "source": [
    "\"\"\"\n",
    "날짜 : 2023/01/09\n",
    "이름 : 김현준\n",
    "내용 : 파이썬 리스트 실습하기\n",
    "\"\"\"\n",
    "\n",
    "# 리스트\n",
    "list1 = [1, 2, 3, 4, 5]\n",
    "\n",
    "print('list1 type : ', type(list1))\n",
    "print('list1[0] : ', list1[0])\n",
    "print('list1[2] : ', list1[2])\n",
    "print('list1[3] : ', list1[3])"
   ]
  },
  {
   "cell_type": "code",
   "execution_count": 2,
   "metadata": {},
   "outputs": [
    {
     "name": "stdout",
     "output_type": "stream",
     "text": [
      "list2 type : <class 'list'>\n",
      "list2[0] : <class 'int'>\n",
      "list2[2] : <class 'bool'>\n",
      "list2[3] : <class 'str'>\n"
     ]
    }
   ],
   "source": [
    "# 다양한 자료형을 갖는 리스트\n",
    "list2 = [1, 3.14, True, 'Apple']\n",
    "print('list2 type :', type(list2))\n",
    "print('list2[0] :', type(list2[0]))\n",
    "print('list2[2] :', type(list2[2]))\n",
    "print('list2[3] :', type(list2[3]))"
   ]
  },
  {
   "cell_type": "code",
   "execution_count": 4,
   "metadata": {},
   "outputs": [
    {
     "name": "stdout",
     "output_type": "stream",
     "text": [
      "dataset[0][0] 1\n",
      "dataset[1][0] 4\n",
      "dataset[2][1] 8\n"
     ]
    }
   ],
   "source": [
    "# 다차원 리스트\n",
    "dataset = [[1,2,3],\n",
    "            [4,5,6],\n",
    "            [7,8,9]]\n",
    "print('dataset[0][0]', dataset[0][0])\n",
    "print('dataset[1][0]', dataset[1][0])\n",
    "print('dataset[2][1]', dataset[2][1])"
   ]
  },
  {
   "cell_type": "code",
   "execution_count": 5,
   "metadata": {},
   "outputs": [
    {
     "name": "stdout",
     "output_type": "stream",
     "text": [
      "dataset :  [1, 2, 3, 4, 5]\n",
      "dataset :  [1, 6, 3, 4, 5]\n",
      "dataset :  [1, 6, 7, 8, 9, 5]\n"
     ]
    },
    {
     "ename": "NameError",
     "evalue": "name 'datset' is not defined",
     "output_type": "error",
     "traceback": [
      "\u001b[1;31m---------------------------------------------------------------------------\u001b[0m",
      "\u001b[1;31mNameError\u001b[0m                                 Traceback (most recent call last)",
      "Cell \u001b[1;32mIn[5], line 11\u001b[0m\n\u001b[0;32m      8\u001b[0m dataset[\u001b[39m2\u001b[39m:\u001b[39m4\u001b[39m] \u001b[39m=\u001b[39m [\u001b[39m7\u001b[39m, \u001b[39m8\u001b[39m, \u001b[39m9\u001b[39m]\n\u001b[0;32m      9\u001b[0m \u001b[39mprint\u001b[39m(\u001b[39m'\u001b[39m\u001b[39mdataset : \u001b[39m\u001b[39m'\u001b[39m, dataset)\n\u001b[1;32m---> 11\u001b[0m datset[\u001b[39m3\u001b[39m:\u001b[39m5\u001b[39m] \u001b[39m=\u001b[39m []\n\u001b[0;32m     12\u001b[0m \u001b[39mprint\u001b[39m(\u001b[39m'\u001b[39m\u001b[39mdataset : \u001b[39m\u001b[39m'\u001b[39m, dataset)\n",
      "\u001b[1;31mNameError\u001b[0m: name 'datset' is not defined"
     ]
    }
   ],
   "source": [
    "#리스트 수정, 추가, 삭제\n",
    "dataset = [1, 2, 3, 4, 5]\n",
    "print('dataset : ', dataset)\n",
    "\n",
    "dataset[1] = 6\n",
    "print('dataset : ', dataset)\n",
    "\n",
    "dataset[2:4] = [7, 8, 9]\n",
    "print('dataset : ', dataset)\n",
    "\n",
    "datset[3:5] = []\n",
    "print('dataset : ', dataset)"
   ]
  }
 ],
 "metadata": {
  "kernelspec": {
   "display_name": "Python 3",
   "language": "python",
   "name": "python3"
  },
  "language_info": {
   "codemirror_mode": {
    "name": "ipython",
    "version": 3
   },
   "file_extension": ".py",
   "mimetype": "text/x-python",
   "name": "python",
   "nbconvert_exporter": "python",
   "pygments_lexer": "ipython3",
   "version": "3.11.1"
  },
  "orig_nbformat": 4,
  "vscode": {
   "interpreter": {
    "hash": "ca3167030a8377a7b82d5e665b459d458267ba920e721652be188ae573e682bb"
   }
  }
 },
 "nbformat": 4,
 "nbformat_minor": 2
}
