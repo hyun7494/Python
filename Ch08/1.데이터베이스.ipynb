{
 "cells": [
  {
   "cell_type": "code",
   "execution_count": 3,
   "metadata": {},
   "outputs": [],
   "source": [
    "\"\"\"\n",
    "날짜 : 2023/01/13\n",
    "이름 : 김현준\n",
    "내용 : 파이썬 데이터베이스 프로그래밍 실습\n",
    "pip pymysql\n",
    "\"\"\"\n",
    "import pymysql"
   ]
  },
  {
   "cell_type": "code",
   "execution_count": 7,
   "metadata": {},
   "outputs": [
    {
     "name": "stdout",
     "output_type": "stream",
     "text": [
      "Insert 완료...\n"
     ]
    }
   ],
   "source": [
    "# Insert 실습\n",
    "# 데이터베이스 접속\n",
    "conn = pymysql.connect(host='127.0.0.1', \n",
    "                        user='root', \n",
    "                        password='1234', \n",
    "                        db='java1db', \n",
    "                        charset='utf8')\n",
    "\n",
    "# SQL 실행객체\n",
    "cur = conn.cursor()\n",
    "\n",
    "# SQL 실행\n",
    "sql = \"insert into `user1` values ('p101', '1234', '파이썬', '010-1234-1001', 17)\"\n",
    "cur.execute(sql)\n",
    "conn.commit()\n",
    "\n",
    "# 데이터베이스 종료\n",
    "conn.close()\n",
    "print('Insert 완료...')"
   ]
  },
  {
   "cell_type": "code",
   "execution_count": 12,
   "metadata": {},
   "outputs": [
    {
     "name": "stdout",
     "output_type": "stream",
     "text": [
      "Update 완료...\n"
     ]
    }
   ],
   "source": [
    "# Update 실습\n",
    "conn = pymysql.connect(host='127.0.0.1', \n",
    "                        user='root', \n",
    "                        password='1234', \n",
    "                        db='java1db', \n",
    "                        charset='utf8')\n",
    "\n",
    "# SQL 실행객체\n",
    "cur = conn.cursor()\n",
    "\n",
    "# SQL 실행\n",
    "sql = \"update `user1` set \"\n",
    "sql += \"`name`='홍길동',\"\n",
    "sql += \"`hp`='010-1111-2222',\"\n",
    "sql += \"`age`=27 \"\n",
    "sql += \"where `uid`='p101';\"\n",
    "cur.execute(sql)\n",
    "conn.commit()\n",
    "\n",
    "# 데이터베이스 종료\n",
    "conn.close()\n",
    "print('Update 완료...')"
   ]
  },
  {
   "cell_type": "code",
   "execution_count": 10,
   "metadata": {},
   "outputs": [
    {
     "name": "stdout",
     "output_type": "stream",
     "text": [
      "Delete 완료...\n"
     ]
    }
   ],
   "source": [
    "# Delete 실습\n",
    "conn = pymysql.connect(host='127.0.0.1', \n",
    "                        user='root', \n",
    "                        password='1234', \n",
    "                        db='java1db', \n",
    "                        charset='utf8')\n",
    "\n",
    "# SQL 실행객체\n",
    "cur = conn.cursor()\n",
    "\n",
    "# SQL 실행\n",
    "sql = \"delete from `user1` where `uid`='p101';\"\n",
    "cur.execute(sql)\n",
    "conn.commit()\n",
    "\n",
    "# 데이터베이스 종료\n",
    "conn.close()\n",
    "print('Delete 완료...')"
   ]
  },
  {
   "cell_type": "code",
   "execution_count": 11,
   "metadata": {},
   "outputs": [
    {
     "name": "stdout",
     "output_type": "stream",
     "text": [
      "---------------\n",
      "아이디 : et002727\n",
      "비밀번호 : 1234\n",
      "이름 : 김현준\n",
      "휴대폰 : 010-1234-5678\n",
      "나이 : 25\n",
      "---------------\n",
      "아이디 : a1005\n",
      "비밀번호 : 2134\n",
      "이름 : 가가가가가가\n",
      "휴대폰 : 010-2121-1010\n",
      "나이 : 25\n",
      "---------------\n",
      "아이디 : a101\n",
      "비밀번호 : 1234\n",
      "이름 : 김유신\n",
      "휴대폰 : 010-1111-1111\n",
      "나이 : 70\n",
      "---------------\n",
      "아이디 : a102\n",
      "비밀번호 : None\n",
      "이름 : 김춘추\n",
      "휴대폰 : 010-2222-2222\n",
      "나이 : 37\n",
      "---------------\n",
      "아이디 : a103\n",
      "비밀번호 : None\n",
      "이름 : 강감찬\n",
      "휴대폰 : 010-3333-3333\n",
      "나이 : 24\n",
      "---------------\n",
      "아이디 : c101\n",
      "비밀번호 : None\n",
      "이름 : 몰라용\n",
      "휴대폰 : 010-9999-9999\n",
      "나이 : 16\n",
      "---------------\n",
      "아이디 : qwerty999\n",
      "비밀번호 : None\n",
      "이름 : 김현민\n",
      "휴대폰 : 010-8535-5267\n",
      "나이 : 24\n",
      "---------------\n",
      "아이디 : qwerty888\n",
      "비밀번호 : None\n",
      "이름 : 박준현\n",
      "휴대폰 : 010-4632-4823\n",
      "나이 : 29\n",
      "Select 완료...\n"
     ]
    }
   ],
   "source": [
    "# Select 실습\n",
    "conn = pymysql.connect(host='127.0.0.1', \n",
    "                        user='root', \n",
    "                        password='1234', \n",
    "                        db='java1db', \n",
    "                        charset='utf8')\n",
    "\n",
    "cur = conn.cursor()\n",
    "\n",
    "sql = \"select * from `user1`\"\n",
    "cur.execute(sql)\n",
    "conn.commit()\n",
    "\n",
    "# 데이터 출력\n",
    "for row in cur.fetchall():\n",
    "    print('---------------')\n",
    "    print('아이디 :', row[0])\n",
    "    print('비밀번호 :', row[1])\n",
    "    print('이름 :', row[2])\n",
    "    print('휴대폰 :', row[3])\n",
    "    print('나이 :', row[4])\n",
    "\n",
    "conn.close()\n",
    "print('Select 완료...')"
   ]
  }
 ],
 "metadata": {
  "kernelspec": {
   "display_name": "Python 3",
   "language": "python",
   "name": "python3"
  },
  "language_info": {
   "codemirror_mode": {
    "name": "ipython",
    "version": 3
   },
   "file_extension": ".py",
   "mimetype": "text/x-python",
   "name": "python",
   "nbconvert_exporter": "python",
   "pygments_lexer": "ipython3",
   "version": "3.11.1"
  },
  "orig_nbformat": 4,
  "vscode": {
   "interpreter": {
    "hash": "ca3167030a8377a7b82d5e665b459d458267ba920e721652be188ae573e682bb"
   }
  }
 },
 "nbformat": 4,
 "nbformat_minor": 2
}
